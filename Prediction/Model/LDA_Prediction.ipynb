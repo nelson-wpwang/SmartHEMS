{
 "cells": [
  {
   "cell_type": "code",
   "execution_count": 1,
   "metadata": {},
   "outputs": [],
   "source": [
    "import numpy as np\n",
    "import scipy as sp\n",
    "from scipy.special import gammaln"
   ]
  },
  {
   "cell_type": "code",
   "execution_count": null,
   "metadata": {},
   "outputs": [],
   "source": [
    "# Hyperparameters\n",
    "alpha\n",
    "gamma\n",
    "beta\n",
    "\n",
    "# Parameters\n",
    "Z = np.zeros((31, K)) #K is the number of day types\n",
    "M = np.zeros((K, L, 24)) #L is the number of appliances\n",
    "V = np.zeros(K)\n",
    "theta = np.zeros(K)\n",
    "Q = np.zeros((31, 7))\n",
    "\n",
    "# Random \n",
    "\n"
   ]
  }
 ],
 "metadata": {
  "kernelspec": {
   "display_name": "Python 3",
   "language": "python",
   "name": "python3"
  },
  "language_info": {
   "codemirror_mode": {
    "name": "ipython",
    "version": 3
   },
   "file_extension": ".py",
   "mimetype": "text/x-python",
   "name": "python",
   "nbconvert_exporter": "python",
   "pygments_lexer": "ipython3",
   "version": "3.7.4"
  }
 },
 "nbformat": 4,
 "nbformat_minor": 2
}
